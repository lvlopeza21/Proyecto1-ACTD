{
 "cells": [
  {
   "cell_type": "code",
   "execution_count": 50,
   "metadata": {},
   "outputs": [
    {
     "data": {
      "text/html": [
       "<div>\n",
       "<style scoped>\n",
       "    .dataframe tbody tr th:only-of-type {\n",
       "        vertical-align: middle;\n",
       "    }\n",
       "\n",
       "    .dataframe tbody tr th {\n",
       "        vertical-align: top;\n",
       "    }\n",
       "\n",
       "    .dataframe thead th {\n",
       "        text-align: right;\n",
       "    }\n",
       "</style>\n",
       "<table border=\"1\" class=\"dataframe\">\n",
       "  <thead>\n",
       "    <tr style=\"text-align: right;\">\n",
       "      <th></th>\n",
       "      <th>date</th>\n",
       "      <th>department</th>\n",
       "      <th>targeted_productivity</th>\n",
       "      <th>smv</th>\n",
       "      <th>wip</th>\n",
       "      <th>over_time</th>\n",
       "      <th>incentive</th>\n",
       "      <th>idle_time</th>\n",
       "      <th>idle_men</th>\n",
       "      <th>no_of_style_change</th>\n",
       "      <th>...</th>\n",
       "      <th>quarter_Quarter2</th>\n",
       "      <th>quarter_Quarter3</th>\n",
       "      <th>quarter_Quarter4</th>\n",
       "      <th>quarter_Quarter5</th>\n",
       "      <th>day_Monday</th>\n",
       "      <th>day_Saturday</th>\n",
       "      <th>day_Sunday</th>\n",
       "      <th>day_Thursday</th>\n",
       "      <th>day_Tuesday</th>\n",
       "      <th>day_Wednesday</th>\n",
       "    </tr>\n",
       "  </thead>\n",
       "  <tbody>\n",
       "    <tr>\n",
       "      <th>0</th>\n",
       "      <td>1/1/2015</td>\n",
       "      <td>sweing</td>\n",
       "      <td>0.80</td>\n",
       "      <td>26.16</td>\n",
       "      <td>1108.0</td>\n",
       "      <td>7080</td>\n",
       "      <td>98</td>\n",
       "      <td>0.0</td>\n",
       "      <td>0</td>\n",
       "      <td>0</td>\n",
       "      <td>...</td>\n",
       "      <td>0</td>\n",
       "      <td>0</td>\n",
       "      <td>0</td>\n",
       "      <td>0</td>\n",
       "      <td>0</td>\n",
       "      <td>0</td>\n",
       "      <td>0</td>\n",
       "      <td>1</td>\n",
       "      <td>0</td>\n",
       "      <td>0</td>\n",
       "    </tr>\n",
       "    <tr>\n",
       "      <th>1</th>\n",
       "      <td>1/1/2015</td>\n",
       "      <td>finishing</td>\n",
       "      <td>0.75</td>\n",
       "      <td>3.94</td>\n",
       "      <td>NaN</td>\n",
       "      <td>960</td>\n",
       "      <td>0</td>\n",
       "      <td>0.0</td>\n",
       "      <td>0</td>\n",
       "      <td>0</td>\n",
       "      <td>...</td>\n",
       "      <td>0</td>\n",
       "      <td>0</td>\n",
       "      <td>0</td>\n",
       "      <td>0</td>\n",
       "      <td>0</td>\n",
       "      <td>0</td>\n",
       "      <td>0</td>\n",
       "      <td>1</td>\n",
       "      <td>0</td>\n",
       "      <td>0</td>\n",
       "    </tr>\n",
       "    <tr>\n",
       "      <th>2</th>\n",
       "      <td>1/1/2015</td>\n",
       "      <td>sweing</td>\n",
       "      <td>0.80</td>\n",
       "      <td>11.41</td>\n",
       "      <td>968.0</td>\n",
       "      <td>3660</td>\n",
       "      <td>50</td>\n",
       "      <td>0.0</td>\n",
       "      <td>0</td>\n",
       "      <td>0</td>\n",
       "      <td>...</td>\n",
       "      <td>0</td>\n",
       "      <td>0</td>\n",
       "      <td>0</td>\n",
       "      <td>0</td>\n",
       "      <td>0</td>\n",
       "      <td>0</td>\n",
       "      <td>0</td>\n",
       "      <td>1</td>\n",
       "      <td>0</td>\n",
       "      <td>0</td>\n",
       "    </tr>\n",
       "    <tr>\n",
       "      <th>3</th>\n",
       "      <td>1/1/2015</td>\n",
       "      <td>sweing</td>\n",
       "      <td>0.80</td>\n",
       "      <td>11.41</td>\n",
       "      <td>968.0</td>\n",
       "      <td>3660</td>\n",
       "      <td>50</td>\n",
       "      <td>0.0</td>\n",
       "      <td>0</td>\n",
       "      <td>0</td>\n",
       "      <td>...</td>\n",
       "      <td>0</td>\n",
       "      <td>0</td>\n",
       "      <td>0</td>\n",
       "      <td>0</td>\n",
       "      <td>0</td>\n",
       "      <td>0</td>\n",
       "      <td>0</td>\n",
       "      <td>1</td>\n",
       "      <td>0</td>\n",
       "      <td>0</td>\n",
       "    </tr>\n",
       "    <tr>\n",
       "      <th>4</th>\n",
       "      <td>1/1/2015</td>\n",
       "      <td>sweing</td>\n",
       "      <td>0.80</td>\n",
       "      <td>25.90</td>\n",
       "      <td>1170.0</td>\n",
       "      <td>1920</td>\n",
       "      <td>50</td>\n",
       "      <td>0.0</td>\n",
       "      <td>0</td>\n",
       "      <td>0</td>\n",
       "      <td>...</td>\n",
       "      <td>0</td>\n",
       "      <td>0</td>\n",
       "      <td>0</td>\n",
       "      <td>0</td>\n",
       "      <td>0</td>\n",
       "      <td>0</td>\n",
       "      <td>0</td>\n",
       "      <td>1</td>\n",
       "      <td>0</td>\n",
       "      <td>0</td>\n",
       "    </tr>\n",
       "  </tbody>\n",
       "</table>\n",
       "<p>5 rows × 35 columns</p>\n",
       "</div>"
      ],
      "text/plain": [
       "       date department  targeted_productivity    smv     wip  over_time  \\\n",
       "0  1/1/2015     sweing                   0.80  26.16  1108.0       7080   \n",
       "1  1/1/2015  finishing                   0.75   3.94     NaN        960   \n",
       "2  1/1/2015     sweing                   0.80  11.41   968.0       3660   \n",
       "3  1/1/2015     sweing                   0.80  11.41   968.0       3660   \n",
       "4  1/1/2015     sweing                   0.80  25.90  1170.0       1920   \n",
       "\n",
       "   incentive  idle_time  idle_men  no_of_style_change  ...  quarter_Quarter2  \\\n",
       "0         98        0.0         0                   0  ...                 0   \n",
       "1          0        0.0         0                   0  ...                 0   \n",
       "2         50        0.0         0                   0  ...                 0   \n",
       "3         50        0.0         0                   0  ...                 0   \n",
       "4         50        0.0         0                   0  ...                 0   \n",
       "\n",
       "   quarter_Quarter3  quarter_Quarter4  quarter_Quarter5  day_Monday  \\\n",
       "0                 0                 0                 0           0   \n",
       "1                 0                 0                 0           0   \n",
       "2                 0                 0                 0           0   \n",
       "3                 0                 0                 0           0   \n",
       "4                 0                 0                 0           0   \n",
       "\n",
       "   day_Saturday  day_Sunday  day_Thursday  day_Tuesday  day_Wednesday  \n",
       "0             0           0             1            0              0  \n",
       "1             0           0             1            0              0  \n",
       "2             0           0             1            0              0  \n",
       "3             0           0             1            0              0  \n",
       "4             0           0             1            0              0  \n",
       "\n",
       "[5 rows x 35 columns]"
      ]
     },
     "execution_count": 50,
     "metadata": {},
     "output_type": "execute_result"
    }
   ],
   "source": [
    "import pandas as pd\n",
    "from sklearn.metrics import mean_squared_error\n",
    "import statsmodels.api as sm\n",
    "from sklearn.model_selection import train_test_split\n",
    "from sklearn.model_selection import cross_val_score\n",
    "from sklearn.linear_model import LinearRegression\n",
    "import numpy as np\n",
    "import matplotlib.pyplot as plt\n",
    "\n",
    "# Lectura de los datos\n",
    "df=pd.read_csv(\"data.txt\")\n",
    "\n",
    "# Reemplazar las variables categoricas por variables dummies\n",
    "df = pd.get_dummies(df, columns=['team'], dtype = int)\n",
    "df = pd.get_dummies(df, columns=['quarter'], dtype = int)\n",
    "df = pd.get_dummies(df, columns=['day'], dtype = int)\n",
    "\n",
    "# Corregir los errores dentro de los datos\n",
    "df['department'] = df['department'].replace('finishing ', 'finishing')\n",
    "\n",
    "\n",
    "df.head()"
   ]
  },
  {
   "cell_type": "code",
   "execution_count": 51,
   "metadata": {},
   "outputs": [
    {
     "name": "stdout",
     "output_type": "stream",
     "text": [
      "['sweing']\n"
     ]
    }
   ],
   "source": [
    "# Creacion del dataframe sin la informacion asociada a la variable finishing\n",
    "df_sinFinishing = df.drop(df[df['department'] == 'finishing'].index)\n",
    "\n",
    "# Verificacion de que el departamento finishing se haya borrado del df\n",
    "valores_unicos = df_sinFinishing['department'].unique()\n",
    "print(valores_unicos)\n"
   ]
  },
  {
   "cell_type": "code",
   "execution_count": 52,
   "metadata": {},
   "outputs": [
    {
     "data": {
      "text/plain": [
       "(691, 35)"
      ]
     },
     "execution_count": 52,
     "metadata": {},
     "output_type": "execute_result"
    }
   ],
   "source": [
    "df_sinFinishing.shape"
   ]
  },
  {
   "cell_type": "markdown",
   "metadata": {},
   "source": [
    "# Modelo de Regresion Sin Departamento 'Finishing'"
   ]
  },
  {
   "cell_type": "code",
   "execution_count": 53,
   "metadata": {},
   "outputs": [
    {
     "name": "stdout",
     "output_type": "stream",
     "text": [
      "                             OLS Regression Results                            \n",
      "===============================================================================\n",
      "Dep. Variable:     actual_productivity   R-squared:                       0.803\n",
      "Model:                             OLS   Adj. R-squared:                  0.792\n",
      "Method:                  Least Squares   F-statistic:                     68.80\n",
      "Date:                 Tue, 12 Mar 2024   Prob (F-statistic):          2.22e-152\n",
      "Time:                         18:23:45   Log-Likelihood:                 645.47\n",
      "No. Observations:                  518   AIC:                            -1231.\n",
      "Df Residuals:                      488   BIC:                            -1103.\n",
      "Df Model:                           29                                         \n",
      "Covariance Type:             nonrobust                                         \n",
      "=========================================================================================\n",
      "                            coef    std err          t      P>|t|      [0.025      0.975]\n",
      "-----------------------------------------------------------------------------------------\n",
      "const                     0.1053      0.042      2.533      0.012       0.024       0.187\n",
      "targeted_productivity     0.6083      0.037     16.581      0.000       0.536       0.680\n",
      "smv                      -0.0046      0.001     -6.993      0.000      -0.006      -0.003\n",
      "wip                   -1.292e-06   1.62e-06     -0.800      0.424   -4.47e-06    1.88e-06\n",
      "over_time             -4.178e-06   1.39e-06     -3.014      0.003    -6.9e-06   -1.45e-06\n",
      "incentive                 0.0033      0.000     20.389      0.000       0.003       0.004\n",
      "idle_time                 0.0015      0.000      4.865      0.000       0.001       0.002\n",
      "idle_men                 -0.0068      0.001     -7.523      0.000      -0.009      -0.005\n",
      "no_of_style_change        0.0053      0.007      0.721      0.471      -0.009       0.020\n",
      "no_of_workers             0.0026      0.001      3.262      0.001       0.001       0.004\n",
      "team_1                   -0.0082      0.024     -0.350      0.727      -0.055       0.038\n",
      "team_2                    0.0095      0.022      0.430      0.667      -0.034       0.053\n",
      "team_3                   -0.0011      0.023     -0.048      0.962      -0.047       0.045\n",
      "team_4                    0.0155      0.024      0.658      0.511      -0.031       0.062\n",
      "team_5                    0.0118      0.024      0.491      0.623      -0.036       0.059\n",
      "team_6                    0.0244      0.015      1.640      0.102      -0.005       0.054\n",
      "team_7                    0.0229      0.024      0.942      0.347      -0.025       0.071\n",
      "team_8                   -0.0047      0.024     -0.195      0.846      -0.052       0.042\n",
      "team_9                   -0.0048      0.022     -0.214      0.830      -0.049       0.039\n",
      "team_10                  -0.0223      0.022     -1.022      0.307      -0.065       0.021\n",
      "team_11                  -0.0485      0.022     -2.166      0.031      -0.092      -0.005\n",
      "quarter_Quarter1          0.0255      0.019      1.312      0.190      -0.013       0.064\n",
      "quarter_Quarter2          0.0211      0.020      1.062      0.289      -0.018       0.060\n",
      "quarter_Quarter3          0.0209      0.020      1.032      0.303      -0.019       0.061\n",
      "quarter_Quarter4          0.0105      0.020      0.524      0.600      -0.029       0.050\n",
      "day_Monday                0.0158      0.011      1.420      0.156      -0.006       0.038\n",
      "day_Saturday              0.0078      0.012      0.664      0.507      -0.015       0.031\n",
      "day_Sunday                0.0052      0.011      0.471      0.638      -0.016       0.027\n",
      "day_Thursday              0.0108      0.011      0.977      0.329      -0.011       0.032\n",
      "day_Tuesday               0.0104      0.011      0.961      0.337      -0.011       0.032\n",
      "==============================================================================\n",
      "Omnibus:                      123.335   Durbin-Watson:                   1.960\n",
      "Prob(Omnibus):                  0.000   Jarque-Bera (JB):              563.416\n",
      "Skew:                          -0.978   Prob(JB):                    4.53e-123\n",
      "Kurtosis:                       7.720   Cond. No.                     1.51e+05\n",
      "==============================================================================\n",
      "\n",
      "Notes:\n",
      "[1] Standard Errors assume that the covariance matrix of the errors is correctly specified.\n",
      "[2] The condition number is large, 1.51e+05. This might indicate that there are\n",
      "strong multicollinearity or other numerical problems.\n"
     ]
    }
   ],
   "source": [
    "# Variables pertenecientes al modelo completo declarando como base al equipo 11, quarter 5, y el dia miercoles\n",
    "features = ['targeted_productivity', 'smv', 'wip', 'over_time', 'incentive',\n",
    "       'idle_time', 'idle_men', 'no_of_style_change', 'no_of_workers',\n",
    "       'team_1', 'team_2', 'team_3', 'team_4', 'team_5',\n",
    "       'team_6', 'team_7', 'team_8', 'team_9', 'team_10', 'team_11', \n",
    "       'quarter_Quarter1', 'quarter_Quarter2', 'quarter_Quarter3',\n",
    "       'quarter_Quarter4', 'day_Monday', 'day_Saturday',\n",
    "       'day_Sunday', 'day_Thursday', 'day_Tuesday'\n",
    "]\n",
    "\n",
    "X = df_sinFinishing [features]\n",
    "Y = df_sinFinishing['actual_productivity']\n",
    "\n",
    "X_train, X_test, Y_train, Y_test = train_test_split(X, Y, random_state=1)\n",
    "\n",
    "X_train = sm.add_constant(X_train)\n",
    "\n",
    "model = sm.OLS(Y_train, X_train).fit()\n",
    "\n",
    "print(model.summary())\n"
   ]
  },
  {
   "cell_type": "code",
   "execution_count": 54,
   "metadata": {},
   "outputs": [
    {
     "name": "stdout",
     "output_type": "stream",
     "text": [
      "const: Significativo\n",
      "targeted_productivity: Significativo\n",
      "smv: Significativo\n",
      "wip: NO Significativo\n",
      "over_time: Significativo\n",
      "incentive: Significativo\n",
      "idle_time: Significativo\n",
      "idle_men: Significativo\n",
      "no_of_style_change: NO Significativo\n",
      "no_of_workers: Significativo\n",
      "team_1: NO Significativo\n",
      "team_2: NO Significativo\n",
      "team_3: NO Significativo\n",
      "team_4: NO Significativo\n",
      "team_5: NO Significativo\n",
      "team_6: NO Significativo\n",
      "team_7: NO Significativo\n",
      "team_8: NO Significativo\n",
      "team_9: NO Significativo\n",
      "team_10: NO Significativo\n",
      "team_11: Significativo\n",
      "quarter_Quarter1: NO Significativo\n",
      "quarter_Quarter2: NO Significativo\n",
      "quarter_Quarter3: NO Significativo\n",
      "quarter_Quarter4: NO Significativo\n",
      "day_Monday: NO Significativo\n",
      "day_Saturday: NO Significativo\n",
      "day_Sunday: NO Significativo\n",
      "day_Thursday: NO Significativo\n",
      "day_Tuesday: NO Significativo\n"
     ]
    }
   ],
   "source": [
    "# Variables significativas y no significativas dentro del modelo\n",
    "summary_table = model.summary().tables[1]\n",
    "p_values = [row[4] for row in summary_table.data[1:]]\n",
    "variables = [row[0] for row in summary_table.data[1:]]\n",
    "\n",
    "p_values = [float(pvalue.strip()) for pvalue in p_values]\n",
    "\n",
    "for i in range(len(variables)):\n",
    "    pvalue = (p_values[i])\n",
    "    variable = variables[i]\n",
    "    if pvalue < 0.1:\n",
    "        texto = 'Significativo'\n",
    "    else:\n",
    "        texto = 'NO Significativo'\n",
    "    print(variable + ': ' + texto)"
   ]
  },
  {
   "cell_type": "markdown",
   "metadata": {},
   "source": [
    "Prueba y evaluacion del modelo"
   ]
  },
  {
   "cell_type": "code",
   "execution_count": 55,
   "metadata": {},
   "outputs": [
    {
     "name": "stdout",
     "output_type": "stream",
     "text": [
      "Error cuadrático medio del modelo: 0.0041733683876170775\n"
     ]
    }
   ],
   "source": [
    "# Error cuadratico medio\n",
    "Y_pred = model.predict(sm.add_constant(X_test))\n",
    "mse_model = mean_squared_error(Y_test, Y_pred)\n",
    "\n",
    "print(\"Error cuadrático medio del modelo:\", mse_model)\n"
   ]
  },
  {
   "cell_type": "code",
   "execution_count": 56,
   "metadata": {},
   "outputs": [
    {
     "name": "stdout",
     "output_type": "stream",
     "text": [
      "MSE para cada fold: [0.19759082 0.00938355 0.00354196 0.00400595 0.00510224]\n",
      "MSE promedio: 0.04392490243226328\n",
      "Desviación estándar del MSE: 0.07686068318568758\n"
     ]
    }
   ],
   "source": [
    "# Validacion cruzada\n",
    "model_sklearn = LinearRegression()\n",
    "scores = cross_val_score(model_sklearn, X_train, Y_train, cv=5, scoring='neg_mean_squared_error')\n",
    "mse_scores = -scores\n",
    "\n",
    "print(\"MSE para cada fold:\", mse_scores)\n",
    "print(\"MSE promedio:\", np.mean(mse_scores))\n",
    "print(\"Desviación estándar del MSE:\", np.std(mse_scores))\n"
   ]
  },
  {
   "cell_type": "markdown",
   "metadata": {},
   "source": [
    "Entrenamiento modelo reducido"
   ]
  },
  {
   "cell_type": "code",
   "execution_count": 57,
   "metadata": {},
   "outputs": [],
   "source": [
    "# Variables pertenecientes al modelo reducido\n",
    "new_features = [\n",
    "    \"targeted_productivity\", \"smv\",\n",
    "    \"over_time\", \"incentive\", \"idle_time\",\n",
    "    \"idle_men\", \"no_of_workers\", \"team_11\"\n",
    "]\n",
    "\n",
    "\n",
    "X_new = df_sinFinishing[new_features]\n",
    "Y_new = df_sinFinishing['actual_productivity']\n",
    "\n",
    "X_train_new, X_test_new, Y_train_new, Y_test_new = train_test_split(X_new, Y_new, random_state=1)\n",
    "\n",
    "X_train_new = sm.add_constant(X_train_new)\n",
    "\n",
    "model_new = sm.OLS(Y_train_new, X_train_new).fit()"
   ]
  },
  {
   "cell_type": "markdown",
   "metadata": {},
   "source": [
    "Prueba y evaluacion del modelo reducido"
   ]
  },
  {
   "cell_type": "code",
   "execution_count": 58,
   "metadata": {},
   "outputs": [
    {
     "name": "stdout",
     "output_type": "stream",
     "text": [
      "Error cuadrático medio del modelo reducido: 0.004065568106135445\n"
     ]
    }
   ],
   "source": [
    "#Error cuadratico medio\n",
    "Y_pred_new = model_new.predict(sm.add_constant(X_test_new))\n",
    "mse_model_new = mean_squared_error(Y_test_new, Y_pred_new)\n",
    "\n",
    "print(\"Error cuadrático medio del modelo reducido:\", mse_model_new)"
   ]
  },
  {
   "cell_type": "code",
   "execution_count": 59,
   "metadata": {},
   "outputs": [
    {
     "name": "stdout",
     "output_type": "stream",
     "text": [
      "MSE para cada fold: [0.07527195 0.00833326 0.00341386 0.00387849 0.00496164]\n",
      "MSE promedio: 0.01917184064249733\n",
      "Desviación estándar del MSE: 0.028102765665293\n"
     ]
    }
   ],
   "source": [
    "# Validacion cruzada\n",
    "model_sklearn = LinearRegression()\n",
    "scores = cross_val_score(model_sklearn, X_train_new, Y_train_new, cv=5, scoring='neg_mean_squared_error')\n",
    "mse_scores = -scores\n",
    "\n",
    "print(\"MSE para cada fold:\", mse_scores)\n",
    "print(\"MSE promedio:\", np.mean(mse_scores))\n",
    "print(\"Desviación estándar del MSE:\", np.std(mse_scores))"
   ]
  },
  {
   "cell_type": "markdown",
   "metadata": {},
   "source": [
    "¿El modelo reducido es mejor que el modelo completo? ¿El quitar las variables no significativas mejora el modelo?"
   ]
  },
  {
   "cell_type": "code",
   "execution_count": 60,
   "metadata": {},
   "outputs": [
    {
     "name": "stdout",
     "output_type": "stream",
     "text": [
      "Estadístico F parcial: 0.9866697563183408\n",
      "Valor p: 0.4783571351114033\n",
      "El modelo reducido es estadisticamente mejor que el modelo completo\n"
     ]
    }
   ],
   "source": [
    "# prueba F-Parcial para modelos anidados, Ho: Es mejor el modelo reducido, H1:¬Ho\n",
    "f_statistic, p_value, _ = model.compare_f_test(model_new)\n",
    "\n",
    "print(f'Estadístico F parcial: {f_statistic}')\n",
    "print(f'Valor p: {p_value}')\n",
    "\n",
    "\n",
    "if p_value < 0.05:\n",
    "    print('El modelo completo es estadisticamente mejor que el modelo reducido')\n",
    "else:\n",
    "    print('El modelo reducido es estadisticamente mejor que el modelo completo')"
   ]
  },
  {
   "cell_type": "markdown",
   "metadata": {},
   "source": [
    "Deteccion Heteroscedasticidad"
   ]
  },
  {
   "cell_type": "code",
   "execution_count": 61,
   "metadata": {},
   "outputs": [
    {
     "data": {
      "image/png": "[encoded data removed]",
      "text/plain": [
       "<Figure size 640x480 with 1 Axes>"
      ]
     },
     "metadata": {},
     "output_type": "display_data"
    }
   ],
   "source": [
    "residuals = model.resid\n",
    "\n",
    "# Graficar los residuos contra los valores ajustados\n",
    "plt.scatter(model.fittedvalues, residuals)\n",
    "plt.xlabel('Valores ajustados')\n",
    "plt.ylabel('Residuos')\n",
    "plt.title('Gráfico de residuos vs valores ajustados')\n",
    "plt.show()"
   ]
  }
 ],
 "metadata": {
  "kernelspec": {
   "display_name": "Python 3",
   "language": "python",
   "name": "python3"
  },
  "language_info": {
   "codemirror_mode": {
    "name": "ipython",
    "version": 3
   },
   "file_extension": ".py",
   "mimetype": "text/x-python",
   "name": "python",
   "nbconvert_exporter": "python",
   "pygments_lexer": "ipython3",
   "version": "3.11.7"
  }
 },
 "nbformat": 4,
 "nbformat_minor": 2
}
