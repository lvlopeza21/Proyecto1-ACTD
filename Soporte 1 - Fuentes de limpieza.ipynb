{
 "cells": [
  {
   "cell_type": "code",
   "execution_count": 3,
   "metadata": {},
   "outputs": [
    {
     "name": "stdout",
     "output_type": "stream",
     "text": [
      "           date   quarter  department        day  team  targeted_productivity  \\\n",
      "0      1/1/2015  Quarter1      sweing   Thursday     8                   0.80   \n",
      "1      1/1/2015  Quarter1  finishing    Thursday     1                   0.75   \n",
      "2      1/1/2015  Quarter1      sweing   Thursday    11                   0.80   \n",
      "3      1/1/2015  Quarter1      sweing   Thursday    12                   0.80   \n",
      "4      1/1/2015  Quarter1      sweing   Thursday     6                   0.80   \n",
      "...         ...       ...         ...        ...   ...                    ...   \n",
      "1192  3/11/2015  Quarter2   finishing  Wednesday    10                   0.75   \n",
      "1193  3/11/2015  Quarter2   finishing  Wednesday     8                   0.70   \n",
      "1194  3/11/2015  Quarter2   finishing  Wednesday     7                   0.65   \n",
      "1195  3/11/2015  Quarter2   finishing  Wednesday     9                   0.75   \n",
      "1196  3/11/2015  Quarter2   finishing  Wednesday     6                   0.70   \n",
      "\n",
      "        smv     wip  over_time  incentive  idle_time  idle_men  \\\n",
      "0     26.16  1108.0       7080         98        0.0         0   \n",
      "1      3.94     NaN        960          0        0.0         0   \n",
      "2     11.41   968.0       3660         50        0.0         0   \n",
      "3     11.41   968.0       3660         50        0.0         0   \n",
      "4     25.90  1170.0       1920         50        0.0         0   \n",
      "...     ...     ...        ...        ...        ...       ...   \n",
      "1192   2.90     NaN        960          0        0.0         0   \n",
      "1193   3.90     NaN        960          0        0.0         0   \n",
      "1194   3.90     NaN        960          0        0.0         0   \n",
      "1195   2.90     NaN       1800          0        0.0         0   \n",
      "1196   2.90     NaN        720          0        0.0         0   \n",
      "\n",
      "      no_of_style_change  no_of_workers  actual_productivity  \n",
      "0                      0           59.0             0.940725  \n",
      "1                      0            8.0             0.886500  \n",
      "2                      0           30.5             0.800570  \n",
      "3                      0           30.5             0.800570  \n",
      "4                      0           56.0             0.800382  \n",
      "...                  ...            ...                  ...  \n",
      "1192                   0            8.0             0.628333  \n",
      "1193                   0            8.0             0.625625  \n",
      "1194                   0            8.0             0.625625  \n",
      "1195                   0           15.0             0.505889  \n",
      "1196                   0            6.0             0.394722  \n",
      "\n",
      "[1197 rows x 15 columns]\n"
     ]
    }
   ],
   "source": [
    "import pandas as pd\n",
    "df=pd.read_csv(\"data.txt\")\n",
    "print(df)"
   ]
  },
  {
   "cell_type": "code",
   "execution_count": 4,
   "metadata": {},
   "outputs": [
    {
     "name": "stdout",
     "output_type": "stream",
     "text": [
      "(1197, 15)\n",
      "date                       0\n",
      "quarter                    0\n",
      "department                 0\n",
      "day                        0\n",
      "team                       0\n",
      "targeted_productivity      0\n",
      "smv                        0\n",
      "wip                      506\n",
      "over_time                  0\n",
      "incentive                  0\n",
      "idle_time                  0\n",
      "idle_men                   0\n",
      "no_of_style_change         0\n",
      "no_of_workers              0\n",
      "actual_productivity        0\n",
      "dtype: int64\n"
     ]
    }
   ],
   "source": [
    "print(df.shape)\n",
    "print(df.isna().sum())"
   ]
  },
  {
   "cell_type": "code",
   "execution_count": 5,
   "metadata": {},
   "outputs": [
    {
     "name": "stdout",
     "output_type": "stream",
     "text": [
      "      team  targeted_productivity    smv     wip  over_time  incentive  \\\n",
      "0        8                   0.80  26.16  1108.0       7080         98   \n",
      "1        1                   0.75   3.94     NaN        960          0   \n",
      "2       11                   0.80  11.41   968.0       3660         50   \n",
      "3       12                   0.80  11.41   968.0       3660         50   \n",
      "4        6                   0.80  25.90  1170.0       1920         50   \n",
      "...    ...                    ...    ...     ...        ...        ...   \n",
      "1192    10                   0.75   2.90     NaN        960          0   \n",
      "1193     8                   0.70   3.90     NaN        960          0   \n",
      "1194     7                   0.65   3.90     NaN        960          0   \n",
      "1195     9                   0.75   2.90     NaN       1800          0   \n",
      "1196     6                   0.70   2.90     NaN        720          0   \n",
      "\n",
      "      idle_time  idle_men  no_of_style_change  no_of_workers  \\\n",
      "0           0.0         0                   0           59.0   \n",
      "1           0.0         0                   0            8.0   \n",
      "2           0.0         0                   0           30.5   \n",
      "3           0.0         0                   0           30.5   \n",
      "4           0.0         0                   0           56.0   \n",
      "...         ...       ...                 ...            ...   \n",
      "1192        0.0         0                   0            8.0   \n",
      "1193        0.0         0                   0            8.0   \n",
      "1194        0.0         0                   0            8.0   \n",
      "1195        0.0         0                   0           15.0   \n",
      "1196        0.0         0                   0            6.0   \n",
      "\n",
      "      actual_productivity  date  quarter  department  day  \n",
      "0                0.940725     0        0           2    3  \n",
      "1                0.886500     0        0           1    3  \n",
      "2                0.800570     0        0           2    3  \n",
      "3                0.800570     0        0           2    3  \n",
      "4                0.800382     0        0           2    3  \n",
      "...                   ...   ...      ...         ...  ...  \n",
      "1192             0.628333    51        1           0    5  \n",
      "1193             0.625625    51        1           0    5  \n",
      "1194             0.625625    51        1           0    5  \n",
      "1195             0.505889    51        1           0    5  \n",
      "1196             0.394722    51        1           0    5  \n",
      "\n",
      "[1197 rows x 15 columns]\n"
     ]
    }
   ],
   "source": [
    "from sklearn.preprocessing import LabelEncoder\n",
    "\n",
    "texto_df=df.select_dtypes(include=['object'])\n",
    "Data_encoded = texto_df.copy()\n",
    "label_encoders = {}\n",
    "for column in texto_df.columns:\n",
    "    le = LabelEncoder()\n",
    "    Data_encoded[column] = le.fit_transform(texto_df[column])\n",
    "    label_encoders[column] = le\n",
    "\n",
    "data = pd.concat([df.drop(columns=texto_df.columns), Data_encoded], axis=1)\n",
    "print(data)\n"
   ]
  },
  {
   "cell_type": "code",
   "execution_count": 13,
   "metadata": {},
   "outputs": [
    {
     "name": "stdout",
     "output_type": "stream",
     "text": [
      "{'team': 0, 'targeted_productivity': 28, 'smv': 0, 'wip': 0, 'over_time': 1, 'incentive': 10, 'idle_time': 18, 'idle_men': 18, 'no_of_style_change': 147, 'no_of_workers': 0, 'actual_productivity': 0, 'date': 0, 'quarter': 0, 'department': 0, 'day': 0}\n"
     ]
    }
   ],
   "source": [
    "import numpy as np\n",
    "def contar_outliers(df):\n",
    "    outliers_counts = {}\n",
    "\n",
    "    for columna in df.columns:\n",
    "        Q1 = np.percentile(df[columna], 25)\n",
    "        Q3 = np.percentile(df[columna], 75)\n",
    "        IQR = Q3 - Q1\n",
    "        \n",
    "        umbral_inferior = Q1 - 3 * IQR\n",
    "        umbral_superior = Q3 + 3 * IQR\n",
    "        \n",
    "        outliers_columna = df[(df[columna] < umbral_inferior) | (df[columna] > umbral_superior)][columna]\n",
    "        outliers_counts[columna] = len(outliers_columna)\n",
    "    \n",
    "    return outliers_counts\n",
    "\n",
    "outl = contar_outliers(data)\n",
    "print(outl)"
   ]
  }
 ],
 "metadata": {
  "kernelspec": {
   "display_name": "Python 3",
   "language": "python",
   "name": "python3"
  },
  "language_info": {
   "codemirror_mode": {
    "name": "ipython",
    "version": 3
   },
   "file_extension": ".py",
   "mimetype": "text/x-python",
   "name": "python",
   "nbconvert_exporter": "python",
   "pygments_lexer": "ipython3",
   "version": "3.11.8"
  }
 },
 "nbformat": 4,
 "nbformat_minor": 2
}
