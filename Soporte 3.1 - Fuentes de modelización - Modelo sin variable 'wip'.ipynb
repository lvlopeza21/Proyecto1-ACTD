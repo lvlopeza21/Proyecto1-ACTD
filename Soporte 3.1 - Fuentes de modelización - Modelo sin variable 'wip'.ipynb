{
 "cells": [
  {
   "cell_type": "code",
   "execution_count": 14,
   "metadata": {},
   "outputs": [
    {
     "data": {
      "text/html": [
       "<div>\n",
       "<style scoped>\n",
       "    .dataframe tbody tr th:only-of-type {\n",
       "        vertical-align: middle;\n",
       "    }\n",
       "\n",
       "    .dataframe tbody tr th {\n",
       "        vertical-align: top;\n",
       "    }\n",
       "\n",
       "    .dataframe thead th {\n",
       "        text-align: right;\n",
       "    }\n",
       "</style>\n",
       "<table border=\"1\" class=\"dataframe\">\n",
       "  <thead>\n",
       "    <tr style=\"text-align: right;\">\n",
       "      <th></th>\n",
       "      <th>date</th>\n",
       "      <th>department</th>\n",
       "      <th>targeted_productivity</th>\n",
       "      <th>smv</th>\n",
       "      <th>wip</th>\n",
       "      <th>over_time</th>\n",
       "      <th>incentive</th>\n",
       "      <th>idle_time</th>\n",
       "      <th>idle_men</th>\n",
       "      <th>no_of_style_change</th>\n",
       "      <th>...</th>\n",
       "      <th>quarter_Quarter2</th>\n",
       "      <th>quarter_Quarter3</th>\n",
       "      <th>quarter_Quarter4</th>\n",
       "      <th>quarter_Quarter5</th>\n",
       "      <th>day_Monday</th>\n",
       "      <th>day_Saturday</th>\n",
       "      <th>day_Sunday</th>\n",
       "      <th>day_Thursday</th>\n",
       "      <th>day_Tuesday</th>\n",
       "      <th>day_Wednesday</th>\n",
       "    </tr>\n",
       "  </thead>\n",
       "  <tbody>\n",
       "    <tr>\n",
       "      <th>0</th>\n",
       "      <td>1/1/2015</td>\n",
       "      <td>sweing</td>\n",
       "      <td>0.80</td>\n",
       "      <td>26.16</td>\n",
       "      <td>1108.0</td>\n",
       "      <td>7080</td>\n",
       "      <td>98</td>\n",
       "      <td>0.0</td>\n",
       "      <td>0</td>\n",
       "      <td>0</td>\n",
       "      <td>...</td>\n",
       "      <td>0</td>\n",
       "      <td>0</td>\n",
       "      <td>0</td>\n",
       "      <td>0</td>\n",
       "      <td>0</td>\n",
       "      <td>0</td>\n",
       "      <td>0</td>\n",
       "      <td>1</td>\n",
       "      <td>0</td>\n",
       "      <td>0</td>\n",
       "    </tr>\n",
       "    <tr>\n",
       "      <th>1</th>\n",
       "      <td>1/1/2015</td>\n",
       "      <td>finishing</td>\n",
       "      <td>0.75</td>\n",
       "      <td>3.94</td>\n",
       "      <td>NaN</td>\n",
       "      <td>960</td>\n",
       "      <td>0</td>\n",
       "      <td>0.0</td>\n",
       "      <td>0</td>\n",
       "      <td>0</td>\n",
       "      <td>...</td>\n",
       "      <td>0</td>\n",
       "      <td>0</td>\n",
       "      <td>0</td>\n",
       "      <td>0</td>\n",
       "      <td>0</td>\n",
       "      <td>0</td>\n",
       "      <td>0</td>\n",
       "      <td>1</td>\n",
       "      <td>0</td>\n",
       "      <td>0</td>\n",
       "    </tr>\n",
       "    <tr>\n",
       "      <th>2</th>\n",
       "      <td>1/1/2015</td>\n",
       "      <td>sweing</td>\n",
       "      <td>0.80</td>\n",
       "      <td>11.41</td>\n",
       "      <td>968.0</td>\n",
       "      <td>3660</td>\n",
       "      <td>50</td>\n",
       "      <td>0.0</td>\n",
       "      <td>0</td>\n",
       "      <td>0</td>\n",
       "      <td>...</td>\n",
       "      <td>0</td>\n",
       "      <td>0</td>\n",
       "      <td>0</td>\n",
       "      <td>0</td>\n",
       "      <td>0</td>\n",
       "      <td>0</td>\n",
       "      <td>0</td>\n",
       "      <td>1</td>\n",
       "      <td>0</td>\n",
       "      <td>0</td>\n",
       "    </tr>\n",
       "    <tr>\n",
       "      <th>3</th>\n",
       "      <td>1/1/2015</td>\n",
       "      <td>sweing</td>\n",
       "      <td>0.80</td>\n",
       "      <td>11.41</td>\n",
       "      <td>968.0</td>\n",
       "      <td>3660</td>\n",
       "      <td>50</td>\n",
       "      <td>0.0</td>\n",
       "      <td>0</td>\n",
       "      <td>0</td>\n",
       "      <td>...</td>\n",
       "      <td>0</td>\n",
       "      <td>0</td>\n",
       "      <td>0</td>\n",
       "      <td>0</td>\n",
       "      <td>0</td>\n",
       "      <td>0</td>\n",
       "      <td>0</td>\n",
       "      <td>1</td>\n",
       "      <td>0</td>\n",
       "      <td>0</td>\n",
       "    </tr>\n",
       "    <tr>\n",
       "      <th>4</th>\n",
       "      <td>1/1/2015</td>\n",
       "      <td>sweing</td>\n",
       "      <td>0.80</td>\n",
       "      <td>25.90</td>\n",
       "      <td>1170.0</td>\n",
       "      <td>1920</td>\n",
       "      <td>50</td>\n",
       "      <td>0.0</td>\n",
       "      <td>0</td>\n",
       "      <td>0</td>\n",
       "      <td>...</td>\n",
       "      <td>0</td>\n",
       "      <td>0</td>\n",
       "      <td>0</td>\n",
       "      <td>0</td>\n",
       "      <td>0</td>\n",
       "      <td>0</td>\n",
       "      <td>0</td>\n",
       "      <td>1</td>\n",
       "      <td>0</td>\n",
       "      <td>0</td>\n",
       "    </tr>\n",
       "  </tbody>\n",
       "</table>\n",
       "<p>5 rows × 35 columns</p>\n",
       "</div>"
      ],
      "text/plain": [
       "       date department  targeted_productivity    smv     wip  over_time  \\\n",
       "0  1/1/2015     sweing                   0.80  26.16  1108.0       7080   \n",
       "1  1/1/2015  finishing                   0.75   3.94     NaN        960   \n",
       "2  1/1/2015     sweing                   0.80  11.41   968.0       3660   \n",
       "3  1/1/2015     sweing                   0.80  11.41   968.0       3660   \n",
       "4  1/1/2015     sweing                   0.80  25.90  1170.0       1920   \n",
       "\n",
       "   incentive  idle_time  idle_men  no_of_style_change  ...  quarter_Quarter2  \\\n",
       "0         98        0.0         0                   0  ...                 0   \n",
       "1          0        0.0         0                   0  ...                 0   \n",
       "2         50        0.0         0                   0  ...                 0   \n",
       "3         50        0.0         0                   0  ...                 0   \n",
       "4         50        0.0         0                   0  ...                 0   \n",
       "\n",
       "   quarter_Quarter3  quarter_Quarter4  quarter_Quarter5  day_Monday  \\\n",
       "0                 0                 0                 0           0   \n",
       "1                 0                 0                 0           0   \n",
       "2                 0                 0                 0           0   \n",
       "3                 0                 0                 0           0   \n",
       "4                 0                 0                 0           0   \n",
       "\n",
       "   day_Saturday  day_Sunday  day_Thursday  day_Tuesday  day_Wednesday  \n",
       "0             0           0             1            0              0  \n",
       "1             0           0             1            0              0  \n",
       "2             0           0             1            0              0  \n",
       "3             0           0             1            0              0  \n",
       "4             0           0             1            0              0  \n",
       "\n",
       "[5 rows x 35 columns]"
      ]
     },
     "execution_count": 14,
     "metadata": {},
     "output_type": "execute_result"
    }
   ],
   "source": [
    "import pandas as pd\n",
    "from sklearn.metrics import mean_squared_error\n",
    "import statsmodels.api as sm\n",
    "from sklearn.model_selection import train_test_split\n",
    "from sklearn.model_selection import cross_val_score\n",
    "from sklearn.linear_model import LinearRegression\n",
    "import numpy as np\n",
    "\n",
    "# Lectura de los datos\n",
    "df=pd.read_csv(\"data.txt\")\n",
    "\n",
    "# Reemplazar las variables categoricas por variables dummies\n",
    "df = pd.get_dummies(df, columns=['team'], dtype = int)\n",
    "df = pd.get_dummies(df, columns=['quarter'], dtype = int)\n",
    "df = pd.get_dummies(df, columns=['day'], dtype = int)\n",
    "\n",
    "# Corregir los errores dentro de los datos\n",
    "df['department'] = df['department'].replace('finishing ', 'finishing')\n",
    "\n",
    "\n",
    "df.head()"
   ]
  },
  {
   "cell_type": "code",
   "execution_count": 15,
   "metadata": {},
   "outputs": [
    {
     "data": {
      "text/plain": [
       "Index(['date', 'targeted_productivity', 'smv', 'over_time', 'incentive',\n",
       "       'idle_time', 'idle_men', 'no_of_style_change', 'no_of_workers',\n",
       "       'actual_productivity', 'team_1', 'team_2', 'team_3', 'team_4', 'team_5',\n",
       "       'team_6', 'team_7', 'team_8', 'team_9', 'team_10', 'team_11', 'team_12',\n",
       "       'quarter_Quarter1', 'quarter_Quarter2', 'quarter_Quarter3',\n",
       "       'quarter_Quarter4', 'quarter_Quarter5', 'day_Monday', 'day_Saturday',\n",
       "       'day_Sunday', 'day_Thursday', 'day_Tuesday', 'day_Wednesday',\n",
       "       'department_finishing', 'department_sweing'],\n",
       "      dtype='object')"
      ]
     },
     "execution_count": 15,
     "metadata": {},
     "output_type": "execute_result"
    }
   ],
   "source": [
    "# Creacion del dataframe sin la variable wip\n",
    "df_sinWIP=df.drop('wip', axis=1)\n",
    "\n",
    "# Convierte la variable department en dummie\n",
    "df_sinWIP = pd.get_dummies(df_sinWIP, columns=['department'], dtype = int)\n",
    "\n",
    "df_sinWIP.columns"
   ]
  },
  {
   "cell_type": "markdown",
   "metadata": {},
   "source": [
    "# Modelo de Regresion Sin WIP"
   ]
  },
  {
   "cell_type": "markdown",
   "metadata": {},
   "source": [
    "Entrenamiento del modelo"
   ]
  },
  {
   "cell_type": "code",
   "execution_count": 16,
   "metadata": {},
   "outputs": [
    {
     "name": "stdout",
     "output_type": "stream",
     "text": [
      "                             OLS Regression Results                            \n",
      "===============================================================================\n",
      "Dep. Variable:     actual_productivity   R-squared:                       0.355\n",
      "Model:                             OLS   Adj. R-squared:                  0.334\n",
      "Method:                  Least Squares   F-statistic:                     16.48\n",
      "Date:                 Tue, 12 Mar 2024   Prob (F-statistic):           4.39e-64\n",
      "Time:                         00:33:25   Log-Likelihood:                 501.67\n",
      "No. Observations:                  897   AIC:                            -943.3\n",
      "Df Residuals:                      867   BIC:                            -799.4\n",
      "Df Model:                           29                                         \n",
      "Covariance Type:             nonrobust                                         \n",
      "=========================================================================================\n",
      "                            coef    std err          t      P>|t|      [0.025      0.975]\n",
      "-----------------------------------------------------------------------------------------\n",
      "const                     0.2789      0.062      4.476      0.000       0.157       0.401\n",
      "targeted_productivity     0.6985      0.053     13.090      0.000       0.594       0.803\n",
      "smv                      -0.0074      0.001     -6.484      0.000      -0.010      -0.005\n",
      "over_time             -3.499e-06   2.26e-06     -1.546      0.122   -7.94e-06    9.42e-07\n",
      "incentive              7.661e-05   3.84e-05      1.995      0.046    1.22e-06       0.000\n",
      "idle_time               2.56e-05      0.000      0.055      0.956      -0.001       0.001\n",
      "idle_men                 -0.0090      0.002     -5.162      0.000      -0.012      -0.006\n",
      "no_of_style_change       -0.0268      0.014     -1.978      0.048      -0.053      -0.000\n",
      "no_of_workers             0.0046      0.001      4.738      0.000       0.003       0.006\n",
      "team_1                    0.0498      0.025      1.957      0.051      -0.000       0.100\n",
      "team_2                    0.0061      0.026      0.239      0.811      -0.044       0.056\n",
      "team_3                    0.0424      0.027      1.588      0.113      -0.010       0.095\n",
      "team_4                    0.0276      0.027      1.031      0.303      -0.025       0.080\n",
      "team_5                   -0.0119      0.027     -0.444      0.657      -0.065       0.041\n",
      "team_6                   -0.0724      0.024     -2.974      0.003      -0.120      -0.025\n",
      "team_7                   -0.0408      0.026     -1.556      0.120      -0.092       0.011\n",
      "team_8                   -0.0537      0.026     -2.038      0.042      -0.105      -0.002\n",
      "team_9                   -0.0398      0.025     -1.563      0.118      -0.090       0.010\n",
      "team_10                  -0.0380      0.026     -1.483      0.138      -0.088       0.012\n",
      "team_11                  -0.0809      0.027     -3.039      0.002      -0.133      -0.029\n",
      "quarter_Quarter1         -0.0702      0.027     -2.623      0.009      -0.123      -0.018\n",
      "quarter_Quarter2         -0.0813      0.027     -2.986      0.003      -0.135      -0.028\n",
      "quarter_Quarter3         -0.0877      0.028     -3.117      0.002      -0.143      -0.032\n",
      "quarter_Quarter4         -0.0896      0.028     -3.244      0.001      -0.144      -0.035\n",
      "day_Monday                0.0010      0.017      0.061      0.952      -0.032       0.034\n",
      "day_Saturday              0.0017      0.017      0.104      0.917      -0.031       0.035\n",
      "day_Sunday                0.0023      0.016      0.144      0.885      -0.029       0.034\n",
      "day_Thursday             -0.0199      0.016     -1.219      0.223      -0.052       0.012\n",
      "day_Tuesday               0.0186      0.016      1.134      0.257      -0.014       0.051\n",
      "department_finishing      0.0357      0.038      0.950      0.342      -0.038       0.109\n",
      "==============================================================================\n",
      "Omnibus:                       93.185   Durbin-Watson:                   1.953\n",
      "Prob(Omnibus):                  0.000   Jarque-Bera (JB):              161.525\n",
      "Skew:                          -0.687   Prob(JB):                     8.42e-36\n",
      "Kurtosis:                       4.560   Cond. No.                     9.57e+04\n",
      "==============================================================================\n",
      "\n",
      "Notes:\n",
      "[1] Standard Errors assume that the covariance matrix of the errors is correctly specified.\n",
      "[2] The condition number is large, 9.57e+04. This might indicate that there are\n",
      "strong multicollinearity or other numerical problems.\n"
     ]
    }
   ],
   "source": [
    "# Variables pertenecientes al modelo completo declarando como base al equipo 11, quarter 5, dia miercoles y departamento de sweing\n",
    "features = ['targeted_productivity', 'smv', 'over_time', 'incentive',\n",
    "            'idle_time', 'idle_men', 'no_of_style_change', 'no_of_workers',\n",
    "            'team_1', 'team_2', 'team_3', 'team_4', 'team_5',\n",
    "            'team_6', 'team_7', 'team_8', 'team_9', 'team_10', 'team_11', \n",
    "            'quarter_Quarter1', 'quarter_Quarter2', 'quarter_Quarter3',\n",
    "            'quarter_Quarter4', 'day_Monday', 'day_Saturday',\n",
    "            'day_Sunday', 'day_Thursday', 'day_Tuesday', \n",
    "            'department_finishing']\n",
    "\n",
    "X = df_sinWIP[features]\n",
    "Y = df_sinWIP['actual_productivity']\n",
    "\n",
    "X_train, X_test, Y_train, Y_test = train_test_split(X, Y, random_state=1)\n",
    "\n",
    "X_train = sm.add_constant(X_train)\n",
    "\n",
    "model = sm.OLS(Y_train, X_train).fit()\n",
    "\n",
    "print(model.summary())\n"
   ]
  },
  {
   "cell_type": "code",
   "execution_count": 17,
   "metadata": {},
   "outputs": [
    {
     "name": "stdout",
     "output_type": "stream",
     "text": [
      "const: Significativo\n",
      "targeted_productivity: Significativo\n",
      "smv: Significativo\n",
      "over_time: NO Significativo\n",
      "incentive: Significativo\n",
      "idle_time: NO Significativo\n",
      "idle_men: Significativo\n",
      "no_of_style_change: Significativo\n",
      "no_of_workers: Significativo\n",
      "team_1: Significativo\n",
      "team_2: NO Significativo\n",
      "team_3: NO Significativo\n",
      "team_4: NO Significativo\n",
      "team_5: NO Significativo\n",
      "team_6: Significativo\n",
      "team_7: NO Significativo\n",
      "team_8: Significativo\n",
      "team_9: NO Significativo\n",
      "team_10: NO Significativo\n",
      "team_11: Significativo\n",
      "quarter_Quarter1: Significativo\n",
      "quarter_Quarter2: Significativo\n",
      "quarter_Quarter3: Significativo\n",
      "quarter_Quarter4: Significativo\n",
      "day_Monday: NO Significativo\n",
      "day_Saturday: NO Significativo\n",
      "day_Sunday: NO Significativo\n",
      "day_Thursday: NO Significativo\n",
      "day_Tuesday: NO Significativo\n",
      "department_finishing: NO Significativo\n"
     ]
    }
   ],
   "source": [
    "# Variables significativas y no significativas dentro del modelo\n",
    "summary_table = model.summary().tables[1]\n",
    "p_values = [row[4] for row in summary_table.data[1:]]\n",
    "variables = [row[0] for row in summary_table.data[1:]]\n",
    "\n",
    "p_values = [float(pvalue.strip()) for pvalue in p_values]\n",
    "\n",
    "for i in range(len(variables)):\n",
    "    pvalue = (p_values[i])\n",
    "    variable = variables[i]\n",
    "    if pvalue < 0.1:\n",
    "        texto = 'Significativo'\n",
    "    else:\n",
    "        texto = 'NO Significativo'\n",
    "    print(variable + ': ' + texto)"
   ]
  },
  {
   "cell_type": "markdown",
   "metadata": {},
   "source": [
    "Prueba y evaluacion del modelo"
   ]
  },
  {
   "cell_type": "code",
   "execution_count": 18,
   "metadata": {},
   "outputs": [
    {
     "name": "stdout",
     "output_type": "stream",
     "text": [
      "Error cuadrático medio del modelo: 0.025878253902111344\n"
     ]
    }
   ],
   "source": [
    "# Error cuadratico medio\n",
    "Y_pred = model.predict(sm.add_constant(X_test))\n",
    "mse_model = mean_squared_error(Y_test, Y_pred)\n",
    "\n",
    "print(\"Error cuadrático medio del modelo:\", mse_model)\n"
   ]
  },
  {
   "cell_type": "code",
   "execution_count": 23,
   "metadata": {},
   "outputs": [
    {
     "name": "stdout",
     "output_type": "stream",
     "text": [
      "MSE para cada fold: [0.02214309 0.01966917 0.01902897 0.01868133 0.02370308]\n",
      "MSE promedio: 0.020645129222598996\n",
      "Desviación estándar del MSE: 0.0019501764307353548\n"
     ]
    }
   ],
   "source": [
    "# Validacion cruzada\n",
    "model_sklearn = LinearRegression()\n",
    "scores = cross_val_score(model_sklearn, X_train, Y_train, cv=5, scoring='neg_mean_squared_error')\n",
    "mse_scores = -scores\n",
    "\n",
    "print(\"MSE para cada fold:\", mse_scores)\n",
    "print(\"MSE promedio:\", np.mean(mse_scores))\n",
    "print(\"Desviación estándar del MSE:\", np.std(mse_scores))\n",
    "\n"
   ]
  },
  {
   "cell_type": "markdown",
   "metadata": {},
   "source": [
    "Entrenamiento modelo reducido"
   ]
  },
  {
   "cell_type": "code",
   "execution_count": 19,
   "metadata": {},
   "outputs": [],
   "source": [
    "# Variables pertenecientes al modelo completo declarando como base al equipo 11, y quarter 5\n",
    "new_features = ['targeted_productivity', 'smv', 'incentive', 'idle_men', \n",
    "                'team_1', 'team_2', 'team_3', 'team_4', 'team_5', 'team_6', \n",
    "                'team_7', 'team_8', 'team_9', 'team_10', 'team_11'\n",
    "                ,'no_of_style_change', 'no_of_workers', 'quarter_Quarter1', \n",
    "                'quarter_Quarter2', 'quarter_Quarter3', 'quarter_Quarter4'\n",
    "                ]\n",
    "\n",
    "\n",
    "X_new = df_sinWIP[new_features]\n",
    "Y_new = df_sinWIP['actual_productivity']\n",
    "\n",
    "X_train_new, X_test_new, Y_train_new, Y_test_new = train_test_split(X_new, Y_new, random_state=1)\n",
    "\n",
    "X_train_new = sm.add_constant(X_train_new)\n",
    "\n",
    "model_new = sm.OLS(Y_train_new, X_train_new).fit()"
   ]
  },
  {
   "cell_type": "markdown",
   "metadata": {},
   "source": [
    "Prueba y evaluacion del modelo reducido"
   ]
  },
  {
   "cell_type": "code",
   "execution_count": 20,
   "metadata": {},
   "outputs": [
    {
     "name": "stdout",
     "output_type": "stream",
     "text": [
      "Error cuadrático medio del modelo reducido: 0.025997343336882146\n"
     ]
    }
   ],
   "source": [
    "#Error cuadratico medio\n",
    "Y_pred_new = model_new.predict(sm.add_constant(X_test_new))\n",
    "mse_model_new = mean_squared_error(Y_test_new, Y_pred_new)\n",
    "\n",
    "print(\"Error cuadrático medio del modelo reducido:\", mse_model_new)"
   ]
  },
  {
   "cell_type": "code",
   "execution_count": 24,
   "metadata": {},
   "outputs": [
    {
     "name": "stdout",
     "output_type": "stream",
     "text": [
      "MSE para cada fold: [0.02213485 0.01983753 0.01795563 0.01888098 0.02362756]\n",
      "MSE promedio: 0.02048730920742239\n",
      "Desviación estándar del MSE: 0.0020970191455381955\n"
     ]
    }
   ],
   "source": [
    "# Validacion cruzada\n",
    "model_sklearn = LinearRegression()\n",
    "scores = cross_val_score(model_sklearn, X_train_new, Y_train_new, cv=5, scoring='neg_mean_squared_error')\n",
    "mse_scores = -scores\n",
    "\n",
    "print(\"MSE para cada fold:\", mse_scores)\n",
    "print(\"MSE promedio:\", np.mean(mse_scores))\n",
    "print(\"Desviación estándar del MSE:\", np.std(mse_scores))"
   ]
  },
  {
   "cell_type": "markdown",
   "metadata": {},
   "source": [
    "¿El modelo reducido es mejor que el modelo completo? ¿El quitar las variables no significativas mejora el modelo?"
   ]
  },
  {
   "cell_type": "code",
   "execution_count": 21,
   "metadata": {},
   "outputs": [
    {
     "name": "stdout",
     "output_type": "stream",
     "text": [
      "Estadístico F parcial: 1.2117564355834172\n",
      "Valor p: 0.2886898483013859\n",
      "El modelo reducido es estadisticamente mejor que el modelo completo\n"
     ]
    }
   ],
   "source": [
    "# prueba F-Parcial para modelos anidados, Ho: Es mejor el modelo reducido, H1:¬Ho\n",
    "f_statistic, p_value, _ = model.compare_f_test(model_new)\n",
    "\n",
    "print(f'Estadístico F parcial: {f_statistic}')\n",
    "print(f'Valor p: {p_value}')\n",
    "\n",
    "\n",
    "if p_value < 0.05:\n",
    "    print('El modelo completo es estadisticamente mejor que el modelo reducido')\n",
    "else:\n",
    "    print('El modelo reducido es estadisticamente mejor que el modelo completo')"
   ]
  }
 ],
 "metadata": {
  "kernelspec": {
   "display_name": "Python 3",
   "language": "python",
   "name": "python3"
  },
  "language_info": {
   "codemirror_mode": {
    "name": "ipython",
    "version": 3
   },
   "file_extension": ".py",
   "mimetype": "text/x-python",
   "name": "python",
   "nbconvert_exporter": "python",
   "pygments_lexer": "ipython3",
   "version": "3.11.7"
  }
 },
 "nbformat": 4,
 "nbformat_minor": 2
}
