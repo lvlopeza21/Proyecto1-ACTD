{
 "cells": [
  {
   "cell_type": "code",
   "execution_count": 1,
   "metadata": {},
   "outputs": [
    {
     "name": "stdout",
     "output_type": "stream",
     "text": [
      "           date   quarter  department        day  team  targeted_productivity  \\\n",
      "0      1/1/2015  Quarter1      sweing   Thursday     8                   0.80   \n",
      "1      1/1/2015  Quarter1  finishing    Thursday     1                   0.75   \n",
      "2      1/1/2015  Quarter1      sweing   Thursday    11                   0.80   \n",
      "3      1/1/2015  Quarter1      sweing   Thursday    12                   0.80   \n",
      "4      1/1/2015  Quarter1      sweing   Thursday     6                   0.80   \n",
      "...         ...       ...         ...        ...   ...                    ...   \n",
      "1192  3/11/2015  Quarter2   finishing  Wednesday    10                   0.75   \n",
      "1193  3/11/2015  Quarter2   finishing  Wednesday     8                   0.70   \n",
      "1194  3/11/2015  Quarter2   finishing  Wednesday     7                   0.65   \n",
      "1195  3/11/2015  Quarter2   finishing  Wednesday     9                   0.75   \n",
      "1196  3/11/2015  Quarter2   finishing  Wednesday     6                   0.70   \n",
      "\n",
      "        smv     wip  over_time  incentive  idle_time  idle_men  \\\n",
      "0     26.16  1108.0       7080         98        0.0         0   \n",
      "1      3.94     NaN        960          0        0.0         0   \n",
      "2     11.41   968.0       3660         50        0.0         0   \n",
      "3     11.41   968.0       3660         50        0.0         0   \n",
      "4     25.90  1170.0       1920         50        0.0         0   \n",
      "...     ...     ...        ...        ...        ...       ...   \n",
      "1192   2.90     NaN        960          0        0.0         0   \n",
      "1193   3.90     NaN        960          0        0.0         0   \n",
      "1194   3.90     NaN        960          0        0.0         0   \n",
      "1195   2.90     NaN       1800          0        0.0         0   \n",
      "1196   2.90     NaN        720          0        0.0         0   \n",
      "\n",
      "      no_of_style_change  no_of_workers  actual_productivity  \n",
      "0                      0           59.0             0.940725  \n",
      "1                      0            8.0             0.886500  \n",
      "2                      0           30.5             0.800570  \n",
      "3                      0           30.5             0.800570  \n",
      "4                      0           56.0             0.800382  \n",
      "...                  ...            ...                  ...  \n",
      "1192                   0            8.0             0.628333  \n",
      "1193                   0            8.0             0.625625  \n",
      "1194                   0            8.0             0.625625  \n",
      "1195                   0           15.0             0.505889  \n",
      "1196                   0            6.0             0.394722  \n",
      "\n",
      "[1197 rows x 15 columns]\n"
     ]
    }
   ],
   "source": [
    "import pandas as pd\n",
    "df=pd.read_csv(\"data.txt\")\n",
    "print(df)"
   ]
  },
  {
   "cell_type": "code",
   "execution_count": 4,
   "metadata": {},
   "outputs": [
    {
     "name": "stdout",
     "output_type": "stream",
     "text": [
      "           date   quarter  department        day  team  targeted_productivity  \\\n",
      "0      1/1/2015  Quarter1      sweing   Thursday     8                   0.80   \n",
      "1      1/1/2015  Quarter1  finishing    Thursday     1                   0.75   \n",
      "2      1/1/2015  Quarter1      sweing   Thursday    11                   0.80   \n",
      "3      1/1/2015  Quarter1      sweing   Thursday    12                   0.80   \n",
      "4      1/1/2015  Quarter1      sweing   Thursday     6                   0.80   \n",
      "...         ...       ...         ...        ...   ...                    ...   \n",
      "1187  3/11/2015  Quarter2      sweing  Wednesday     4                   0.75   \n",
      "1188  3/11/2015  Quarter2      sweing  Wednesday     5                   0.70   \n",
      "1189  3/11/2015  Quarter2      sweing  Wednesday     8                   0.70   \n",
      "1190  3/11/2015  Quarter2      sweing  Wednesday     6                   0.70   \n",
      "1191  3/11/2015  Quarter2      sweing  Wednesday     7                   0.65   \n",
      "\n",
      "        smv     wip  over_time  incentive  idle_time  idle_men  \\\n",
      "0     26.16  1108.0       7080         98        0.0         0   \n",
      "1      3.94     NaN        960          0        0.0         0   \n",
      "2     11.41   968.0       3660         50        0.0         0   \n",
      "3     11.41   968.0       3660         50        0.0         0   \n",
      "4     25.90  1170.0       1920         50        0.0         0   \n",
      "...     ...     ...        ...        ...        ...       ...   \n",
      "1187  26.82  1054.0       7080         45        0.0         0   \n",
      "1188  26.82   992.0       6960         30        0.0         0   \n",
      "1189  30.48   914.0       6840         30        0.0         0   \n",
      "1190  23.41  1128.0       4560         40        0.0         0   \n",
      "1191  30.48   935.0       6840         26        0.0         0   \n",
      "\n",
      "      no_of_style_change  no_of_workers  actual_productivity  \n",
      "0                      0           59.0             0.940725  \n",
      "1                      0            8.0             0.886500  \n",
      "2                      0           30.5             0.800570  \n",
      "3                      0           30.5             0.800570  \n",
      "4                      0           56.0             0.800382  \n",
      "...                  ...            ...                  ...  \n",
      "1187                   0           59.0             0.750051  \n",
      "1188                   1           58.0             0.700557  \n",
      "1189                   1           57.0             0.700505  \n",
      "1190                   1           38.0             0.700246  \n",
      "1191                   1           57.0             0.650596  \n",
      "\n",
      "[948 rows x 15 columns]\n"
     ]
    }
   ],
   "source": [
    "df_sinWIP=df.drop('wip', axis=1)\n",
    "df_sinFinishing=df.drop(df[df['department']=='finishing'].index)\n",
    "\n",
    "print(df_sinFinishing)\n"
   ]
  }
 ],
 "metadata": {
  "kernelspec": {
   "display_name": "Python 3",
   "language": "python",
   "name": "python3"
  },
  "language_info": {
   "codemirror_mode": {
    "name": "ipython",
    "version": 3
   },
   "file_extension": ".py",
   "mimetype": "text/x-python",
   "name": "python",
   "nbconvert_exporter": "python",
   "pygments_lexer": "ipython3",
   "version": "3.11.8"
  }
 },
 "nbformat": 4,
 "nbformat_minor": 2
}
