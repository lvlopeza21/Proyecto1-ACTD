{
 "cells": [
  {
   "cell_type": "code",
   "execution_count": 153,
   "metadata": {},
   "outputs": [
    {
     "data": {
      "text/html": [
       "<div>\n",
       "<style scoped>\n",
       "    .dataframe tbody tr th:only-of-type {\n",
       "        vertical-align: middle;\n",
       "    }\n",
       "\n",
       "    .dataframe tbody tr th {\n",
       "        vertical-align: top;\n",
       "    }\n",
       "\n",
       "    .dataframe thead th {\n",
       "        text-align: right;\n",
       "    }\n",
       "</style>\n",
       "<table border=\"1\" class=\"dataframe\">\n",
       "  <thead>\n",
       "    <tr style=\"text-align: right;\">\n",
       "      <th></th>\n",
       "      <th>date</th>\n",
       "      <th>quarter</th>\n",
       "      <th>department</th>\n",
       "      <th>day</th>\n",
       "      <th>targeted_productivity</th>\n",
       "      <th>smv</th>\n",
       "      <th>wip</th>\n",
       "      <th>over_time</th>\n",
       "      <th>incentive</th>\n",
       "      <th>idle_time</th>\n",
       "      <th>...</th>\n",
       "      <th>team_3</th>\n",
       "      <th>team_4</th>\n",
       "      <th>team_5</th>\n",
       "      <th>team_6</th>\n",
       "      <th>team_7</th>\n",
       "      <th>team_8</th>\n",
       "      <th>team_9</th>\n",
       "      <th>team_10</th>\n",
       "      <th>team_11</th>\n",
       "      <th>team_12</th>\n",
       "    </tr>\n",
       "  </thead>\n",
       "  <tbody>\n",
       "    <tr>\n",
       "      <th>0</th>\n",
       "      <td>1/1/2015</td>\n",
       "      <td>Quarter1</td>\n",
       "      <td>sweing</td>\n",
       "      <td>Thursday</td>\n",
       "      <td>0.80</td>\n",
       "      <td>26.16</td>\n",
       "      <td>1108.0</td>\n",
       "      <td>7080</td>\n",
       "      <td>98</td>\n",
       "      <td>0.0</td>\n",
       "      <td>...</td>\n",
       "      <td>0</td>\n",
       "      <td>0</td>\n",
       "      <td>0</td>\n",
       "      <td>0</td>\n",
       "      <td>0</td>\n",
       "      <td>1</td>\n",
       "      <td>0</td>\n",
       "      <td>0</td>\n",
       "      <td>0</td>\n",
       "      <td>0</td>\n",
       "    </tr>\n",
       "    <tr>\n",
       "      <th>1</th>\n",
       "      <td>1/1/2015</td>\n",
       "      <td>Quarter1</td>\n",
       "      <td>finishing</td>\n",
       "      <td>Thursday</td>\n",
       "      <td>0.75</td>\n",
       "      <td>3.94</td>\n",
       "      <td>NaN</td>\n",
       "      <td>960</td>\n",
       "      <td>0</td>\n",
       "      <td>0.0</td>\n",
       "      <td>...</td>\n",
       "      <td>0</td>\n",
       "      <td>0</td>\n",
       "      <td>0</td>\n",
       "      <td>0</td>\n",
       "      <td>0</td>\n",
       "      <td>0</td>\n",
       "      <td>0</td>\n",
       "      <td>0</td>\n",
       "      <td>0</td>\n",
       "      <td>0</td>\n",
       "    </tr>\n",
       "    <tr>\n",
       "      <th>2</th>\n",
       "      <td>1/1/2015</td>\n",
       "      <td>Quarter1</td>\n",
       "      <td>sweing</td>\n",
       "      <td>Thursday</td>\n",
       "      <td>0.80</td>\n",
       "      <td>11.41</td>\n",
       "      <td>968.0</td>\n",
       "      <td>3660</td>\n",
       "      <td>50</td>\n",
       "      <td>0.0</td>\n",
       "      <td>...</td>\n",
       "      <td>0</td>\n",
       "      <td>0</td>\n",
       "      <td>0</td>\n",
       "      <td>0</td>\n",
       "      <td>0</td>\n",
       "      <td>0</td>\n",
       "      <td>0</td>\n",
       "      <td>0</td>\n",
       "      <td>1</td>\n",
       "      <td>0</td>\n",
       "    </tr>\n",
       "    <tr>\n",
       "      <th>3</th>\n",
       "      <td>1/1/2015</td>\n",
       "      <td>Quarter1</td>\n",
       "      <td>sweing</td>\n",
       "      <td>Thursday</td>\n",
       "      <td>0.80</td>\n",
       "      <td>11.41</td>\n",
       "      <td>968.0</td>\n",
       "      <td>3660</td>\n",
       "      <td>50</td>\n",
       "      <td>0.0</td>\n",
       "      <td>...</td>\n",
       "      <td>0</td>\n",
       "      <td>0</td>\n",
       "      <td>0</td>\n",
       "      <td>0</td>\n",
       "      <td>0</td>\n",
       "      <td>0</td>\n",
       "      <td>0</td>\n",
       "      <td>0</td>\n",
       "      <td>0</td>\n",
       "      <td>1</td>\n",
       "    </tr>\n",
       "    <tr>\n",
       "      <th>4</th>\n",
       "      <td>1/1/2015</td>\n",
       "      <td>Quarter1</td>\n",
       "      <td>sweing</td>\n",
       "      <td>Thursday</td>\n",
       "      <td>0.80</td>\n",
       "      <td>25.90</td>\n",
       "      <td>1170.0</td>\n",
       "      <td>1920</td>\n",
       "      <td>50</td>\n",
       "      <td>0.0</td>\n",
       "      <td>...</td>\n",
       "      <td>0</td>\n",
       "      <td>0</td>\n",
       "      <td>0</td>\n",
       "      <td>1</td>\n",
       "      <td>0</td>\n",
       "      <td>0</td>\n",
       "      <td>0</td>\n",
       "      <td>0</td>\n",
       "      <td>0</td>\n",
       "      <td>0</td>\n",
       "    </tr>\n",
       "  </tbody>\n",
       "</table>\n",
       "<p>5 rows × 26 columns</p>\n",
       "</div>"
      ],
      "text/plain": [
       "       date   quarter department       day  targeted_productivity    smv  \\\n",
       "0  1/1/2015  Quarter1     sweing  Thursday                   0.80  26.16   \n",
       "1  1/1/2015  Quarter1  finishing  Thursday                   0.75   3.94   \n",
       "2  1/1/2015  Quarter1     sweing  Thursday                   0.80  11.41   \n",
       "3  1/1/2015  Quarter1     sweing  Thursday                   0.80  11.41   \n",
       "4  1/1/2015  Quarter1     sweing  Thursday                   0.80  25.90   \n",
       "\n",
       "      wip  over_time  incentive  idle_time  ...  team_3  team_4  team_5  \\\n",
       "0  1108.0       7080         98        0.0  ...       0       0       0   \n",
       "1     NaN        960          0        0.0  ...       0       0       0   \n",
       "2   968.0       3660         50        0.0  ...       0       0       0   \n",
       "3   968.0       3660         50        0.0  ...       0       0       0   \n",
       "4  1170.0       1920         50        0.0  ...       0       0       0   \n",
       "\n",
       "   team_6  team_7  team_8  team_9  team_10  team_11  team_12  \n",
       "0       0       0       1       0        0        0        0  \n",
       "1       0       0       0       0        0        0        0  \n",
       "2       0       0       0       0        0        1        0  \n",
       "3       0       0       0       0        0        0        1  \n",
       "4       1       0       0       0        0        0        0  \n",
       "\n",
       "[5 rows x 26 columns]"
      ]
     },
     "execution_count": 153,
     "metadata": {},
     "output_type": "execute_result"
    }
   ],
   "source": [
    "import pandas as pd\n",
    "\n",
    "df=pd.read_csv(\"data.txt\")\n",
    "\n",
    "df = pd.get_dummies(df, columns=['team'], dtype = int)\n",
    "\n",
    "df['department'] = df['department'].replace('finishing ', 'finishing')\n",
    "\n",
    "df.head()"
   ]
  },
  {
   "cell_type": "code",
   "execution_count": 156,
   "metadata": {},
   "outputs": [
    {
     "data": {
      "text/plain": [
       "Index(['date', 'quarter', 'day', 'targeted_productivity', 'smv', 'over_time',\n",
       "       'incentive', 'idle_time', 'idle_men', 'no_of_style_change',\n",
       "       'no_of_workers', 'actual_productivity', 'team_1', 'team_2', 'team_3',\n",
       "       'team_4', 'team_5', 'team_6', 'team_7', 'team_8', 'team_9', 'team_10',\n",
       "       'team_11', 'team_12', 'department_finishing', 'department_sweing'],\n",
       "      dtype='object')"
      ]
     },
     "execution_count": 156,
     "metadata": {},
     "output_type": "execute_result"
    }
   ],
   "source": [
    "df_sinWIP=df.drop('wip', axis=1)\n",
    "\n",
    "df_sinWIP = pd.get_dummies(df_sinWIP, columns=['department'], dtype = int)\n",
    "\n",
    "df_sinWIP.columns"
   ]
  },
  {
   "cell_type": "code",
   "execution_count": 139,
   "metadata": {},
   "outputs": [
    {
     "name": "stdout",
     "output_type": "stream",
     "text": [
      "['sweing']\n"
     ]
    },
    {
     "data": {
      "text/plain": [
       "Index(['date', 'quarter', 'department', 'day', 'targeted_productivity', 'smv',\n",
       "       'over_time', 'incentive', 'idle_time', 'idle_men', 'no_of_style_change',\n",
       "       'no_of_workers', 'actual_productivity', 'team_1', 'team_2', 'team_3',\n",
       "       'team_4', 'team_5', 'team_6', 'team_7', 'team_8', 'team_9', 'team_10',\n",
       "       'team_11', 'team_12'],\n",
       "      dtype='object')"
      ]
     },
     "execution_count": 139,
     "metadata": {},
     "output_type": "execute_result"
    }
   ],
   "source": [
    "# df_sinFinishing = df.drop(df[df['department'] == 'finishing'].index)\n",
    "\n",
    "# valores_unicos = df_sinFinishing['department'].unique()\n",
    "# print(valores_unicos)\n",
    "\n"
   ]
  },
  {
   "cell_type": "code",
   "execution_count": 147,
   "metadata": {},
   "outputs": [
    {
     "data": {
      "text/plain": [
       "(1197, 26)"
      ]
     },
     "execution_count": 147,
     "metadata": {},
     "output_type": "execute_result"
    }
   ],
   "source": [
    "df_sinWIP.shape"
   ]
  },
  {
   "cell_type": "markdown",
   "metadata": {},
   "source": [
    "Modelo de Regresion Sin WIP"
   ]
  },
  {
   "cell_type": "code",
   "execution_count": 163,
   "metadata": {},
   "outputs": [
    {
     "data": {
      "text/html": [
       "<div>\n",
       "<style scoped>\n",
       "    .dataframe tbody tr th:only-of-type {\n",
       "        vertical-align: middle;\n",
       "    }\n",
       "\n",
       "    .dataframe tbody tr th {\n",
       "        vertical-align: top;\n",
       "    }\n",
       "\n",
       "    .dataframe thead th {\n",
       "        text-align: right;\n",
       "    }\n",
       "</style>\n",
       "<table border=\"1\" class=\"dataframe\">\n",
       "  <thead>\n",
       "    <tr style=\"text-align: right;\">\n",
       "      <th></th>\n",
       "      <th>targeted_productivity</th>\n",
       "      <th>smv</th>\n",
       "      <th>over_time</th>\n",
       "      <th>incentive</th>\n",
       "      <th>idle_time</th>\n",
       "      <th>idle_men</th>\n",
       "      <th>no_of_style_change</th>\n",
       "      <th>no_of_workers</th>\n",
       "      <th>team_1</th>\n",
       "      <th>team_2</th>\n",
       "      <th>...</th>\n",
       "      <th>team_5</th>\n",
       "      <th>team_6</th>\n",
       "      <th>team_7</th>\n",
       "      <th>team_8</th>\n",
       "      <th>team_9</th>\n",
       "      <th>team_10</th>\n",
       "      <th>team_11</th>\n",
       "      <th>team_12</th>\n",
       "      <th>department_finishing</th>\n",
       "      <th>department_sweing</th>\n",
       "    </tr>\n",
       "  </thead>\n",
       "  <tbody>\n",
       "    <tr>\n",
       "      <th>0</th>\n",
       "      <td>0.80</td>\n",
       "      <td>26.16</td>\n",
       "      <td>7080</td>\n",
       "      <td>98</td>\n",
       "      <td>0.0</td>\n",
       "      <td>0</td>\n",
       "      <td>0</td>\n",
       "      <td>59.0</td>\n",
       "      <td>0</td>\n",
       "      <td>0</td>\n",
       "      <td>...</td>\n",
       "      <td>0</td>\n",
       "      <td>0</td>\n",
       "      <td>0</td>\n",
       "      <td>1</td>\n",
       "      <td>0</td>\n",
       "      <td>0</td>\n",
       "      <td>0</td>\n",
       "      <td>0</td>\n",
       "      <td>0</td>\n",
       "      <td>1</td>\n",
       "    </tr>\n",
       "    <tr>\n",
       "      <th>1</th>\n",
       "      <td>0.75</td>\n",
       "      <td>3.94</td>\n",
       "      <td>960</td>\n",
       "      <td>0</td>\n",
       "      <td>0.0</td>\n",
       "      <td>0</td>\n",
       "      <td>0</td>\n",
       "      <td>8.0</td>\n",
       "      <td>1</td>\n",
       "      <td>0</td>\n",
       "      <td>...</td>\n",
       "      <td>0</td>\n",
       "      <td>0</td>\n",
       "      <td>0</td>\n",
       "      <td>0</td>\n",
       "      <td>0</td>\n",
       "      <td>0</td>\n",
       "      <td>0</td>\n",
       "      <td>0</td>\n",
       "      <td>1</td>\n",
       "      <td>0</td>\n",
       "    </tr>\n",
       "    <tr>\n",
       "      <th>2</th>\n",
       "      <td>0.80</td>\n",
       "      <td>11.41</td>\n",
       "      <td>3660</td>\n",
       "      <td>50</td>\n",
       "      <td>0.0</td>\n",
       "      <td>0</td>\n",
       "      <td>0</td>\n",
       "      <td>30.5</td>\n",
       "      <td>0</td>\n",
       "      <td>0</td>\n",
       "      <td>...</td>\n",
       "      <td>0</td>\n",
       "      <td>0</td>\n",
       "      <td>0</td>\n",
       "      <td>0</td>\n",
       "      <td>0</td>\n",
       "      <td>0</td>\n",
       "      <td>1</td>\n",
       "      <td>0</td>\n",
       "      <td>0</td>\n",
       "      <td>1</td>\n",
       "    </tr>\n",
       "    <tr>\n",
       "      <th>3</th>\n",
       "      <td>0.80</td>\n",
       "      <td>11.41</td>\n",
       "      <td>3660</td>\n",
       "      <td>50</td>\n",
       "      <td>0.0</td>\n",
       "      <td>0</td>\n",
       "      <td>0</td>\n",
       "      <td>30.5</td>\n",
       "      <td>0</td>\n",
       "      <td>0</td>\n",
       "      <td>...</td>\n",
       "      <td>0</td>\n",
       "      <td>0</td>\n",
       "      <td>0</td>\n",
       "      <td>0</td>\n",
       "      <td>0</td>\n",
       "      <td>0</td>\n",
       "      <td>0</td>\n",
       "      <td>1</td>\n",
       "      <td>0</td>\n",
       "      <td>1</td>\n",
       "    </tr>\n",
       "    <tr>\n",
       "      <th>4</th>\n",
       "      <td>0.80</td>\n",
       "      <td>25.90</td>\n",
       "      <td>1920</td>\n",
       "      <td>50</td>\n",
       "      <td>0.0</td>\n",
       "      <td>0</td>\n",
       "      <td>0</td>\n",
       "      <td>56.0</td>\n",
       "      <td>0</td>\n",
       "      <td>0</td>\n",
       "      <td>...</td>\n",
       "      <td>0</td>\n",
       "      <td>1</td>\n",
       "      <td>0</td>\n",
       "      <td>0</td>\n",
       "      <td>0</td>\n",
       "      <td>0</td>\n",
       "      <td>0</td>\n",
       "      <td>0</td>\n",
       "      <td>0</td>\n",
       "      <td>1</td>\n",
       "    </tr>\n",
       "  </tbody>\n",
       "</table>\n",
       "<p>5 rows × 22 columns</p>\n",
       "</div>"
      ],
      "text/plain": [
       "   targeted_productivity    smv  over_time  incentive  idle_time  idle_men  \\\n",
       "0                   0.80  26.16       7080         98        0.0         0   \n",
       "1                   0.75   3.94        960          0        0.0         0   \n",
       "2                   0.80  11.41       3660         50        0.0         0   \n",
       "3                   0.80  11.41       3660         50        0.0         0   \n",
       "4                   0.80  25.90       1920         50        0.0         0   \n",
       "\n",
       "   no_of_style_change  no_of_workers  team_1  team_2  ...  team_5  team_6  \\\n",
       "0                   0           59.0       0       0  ...       0       0   \n",
       "1                   0            8.0       1       0  ...       0       0   \n",
       "2                   0           30.5       0       0  ...       0       0   \n",
       "3                   0           30.5       0       0  ...       0       0   \n",
       "4                   0           56.0       0       0  ...       0       1   \n",
       "\n",
       "   team_7  team_8  team_9  team_10  team_11  team_12  department_finishing  \\\n",
       "0       0       1       0        0        0        0                     0   \n",
       "1       0       0       0        0        0        0                     1   \n",
       "2       0       0       0        0        1        0                     0   \n",
       "3       0       0       0        0        0        1                     0   \n",
       "4       0       0       0        0        0        0                     0   \n",
       "\n",
       "   department_sweing  \n",
       "0                  1  \n",
       "1                  0  \n",
       "2                  1  \n",
       "3                  1  \n",
       "4                  1  \n",
       "\n",
       "[5 rows x 22 columns]"
      ]
     },
     "execution_count": 163,
     "metadata": {},
     "output_type": "execute_result"
    }
   ],
   "source": [
    "features = ['targeted_productivity', 'smv', 'over_time',\n",
    "       'incentive', 'idle_time', 'idle_men', 'no_of_style_change',\n",
    "       'no_of_workers', 'team_1', 'team_2', 'team_3',\n",
    "       'team_4', 'team_5', 'team_6', 'team_7', 'team_8', 'team_9', 'team_10',\n",
    "       'team_11', 'team_12', 'department_finishing', 'department_sweing']\n",
    "\n",
    "X = df_sinWIP[features]\n",
    "\n",
    "X.head()"
   ]
  },
  {
   "cell_type": "code",
   "execution_count": 164,
   "metadata": {},
   "outputs": [
    {
     "data": {
      "text/plain": [
       "0    0.940725\n",
       "1    0.886500\n",
       "2    0.800570\n",
       "3    0.800570\n",
       "4    0.800382\n",
       "Name: actual_productivity, dtype: float64"
      ]
     },
     "execution_count": 164,
     "metadata": {},
     "output_type": "execute_result"
    }
   ],
   "source": [
    "Y = df_sinWIP['actual_productivity']\n",
    "\n",
    "Y.head()"
   ]
  },
  {
   "cell_type": "code",
   "execution_count": 165,
   "metadata": {},
   "outputs": [
    {
     "name": "stdout",
     "output_type": "stream",
     "text": [
      "<class 'pandas.core.frame.DataFrame'>\n",
      "<class 'pandas.core.series.Series'>\n"
     ]
    }
   ],
   "source": [
    "print(type(X))\n",
    "print(type(Y))\n"
   ]
  },
  {
   "cell_type": "markdown",
   "metadata": {},
   "source": [
    "Division Entre Entrenamiento y Prueba"
   ]
  },
  {
   "cell_type": "code",
   "execution_count": 166,
   "metadata": {},
   "outputs": [],
   "source": [
    "from sklearn.model_selection import train_test_split\n",
    "\n",
    "X_train, X_test, Y_train, Y_test = train_test_split(X, Y, random_state=1, test_size=0.3)"
   ]
  },
  {
   "cell_type": "code",
   "execution_count": 167,
   "metadata": {},
   "outputs": [
    {
     "name": "stdout",
     "output_type": "stream",
     "text": [
      "(837, 22)\n",
      "(837,)\n",
      "(360, 22)\n",
      "(360,)\n"
     ]
    }
   ],
   "source": [
    "print(X_train.shape)\n",
    "print(Y_train.shape)\n",
    "print(X_test.shape)\n",
    "print(Y_test.shape)"
   ]
  },
  {
   "cell_type": "code",
   "execution_count": 168,
   "metadata": {},
   "outputs": [
    {
     "data": {
      "text/plain": [
       "[('targeted_productivity', 0.7205759212644837),\n",
       " ('smv', -0.007476902098506965),\n",
       " ('over_time', -4.939275288373198e-06),\n",
       " ('incentive', 7.239372343924992e-05),\n",
       " ('idle_time', 8.18430777265063e-05),\n",
       " ('idle_men', -0.008987824655430646),\n",
       " ('no_of_style_change', -0.03709573165485786),\n",
       " ('no_of_workers', 0.004706351063230924),\n",
       " ('team_1', 0.06267209644136927),\n",
       " ('team_2', 0.022726902880488703),\n",
       " ('team_3', 0.0629142952383202),\n",
       " ('team_4', 0.047742411886613434),\n",
       " ('team_5', 0.004772506884428665),\n",
       " ('team_6', -0.0543761335076882),\n",
       " ('team_7', -0.014973235443674177),\n",
       " ('team_8', -0.042940958205447785),\n",
       " ('team_9', -0.022167919267018454),\n",
       " ('team_10', -0.013726291804144359),\n",
       " ('team_11', -0.062126443093748984),\n",
       " ('team_12', 0.009482767990503143),\n",
       " ('department_finishing', 0.015902338501236523),\n",
       " ('department_sweing', -0.01590233850123629)]"
      ]
     },
     "execution_count": 168,
     "metadata": {},
     "output_type": "execute_result"
    }
   ],
   "source": [
    "from sklearn.linear_model import LinearRegression\n",
    "\n",
    "linreg = LinearRegression()\n",
    "\n",
    "linreg.fit(X_train, Y_train)\n",
    "\n",
    "# print('Intercepto: ' + str(linreg.intercept_))\n",
    "\n",
    "# print('Coeficientes: ' + str(linreg.coef_))\n",
    "\n",
    "list(zip(features, linreg.coef_))"
   ]
  },
  {
   "cell_type": "markdown",
   "metadata": {},
   "source": [
    "# Predicciones Usando los Datos de Prueba"
   ]
  },
  {
   "cell_type": "code",
   "execution_count": 169,
   "metadata": {},
   "outputs": [],
   "source": [
    "Y_pred = linreg.predict(X_test)"
   ]
  },
  {
   "cell_type": "markdown",
   "metadata": {},
   "source": [
    "Evaluar el Modelo"
   ]
  },
  {
   "cell_type": "code",
   "execution_count": 171,
   "metadata": {},
   "outputs": [
    {
     "name": "stdout",
     "output_type": "stream",
     "text": [
      "MAE:  0.11146304275670119\n",
      "MSE:  0.025604044486219005\n",
      "RMSE:  0.16001263852027128\n"
     ]
    }
   ],
   "source": [
    "from sklearn import metrics\n",
    "\n",
    "import numpy as np\n",
    "\n",
    "# mean absolute error\n",
    "MAE = metrics.mean_absolute_error(Y_test, Y_pred)\n",
    "\n",
    "# mean squared error\n",
    "MSE = metrics.mean_squared_error(Y_test, Y_pred)\n",
    "\n",
    "# root mean squared error\n",
    "RMSE = np.sqrt(MSE)\n",
    "\n",
    "print(\"MAE: \", MAE)\n",
    "print(\"MSE: \", MSE)\n",
    "print(\"RMSE: \", RMSE)"
   ]
  },
  {
   "cell_type": "markdown",
   "metadata": {},
   "source": [
    "# Validacion Cruzada?? Clase 5\n"
   ]
  },
  {
   "cell_type": "markdown",
   "metadata": {},
   "source": [
    "Stats Models"
   ]
  },
  {
   "cell_type": "code",
   "execution_count": 172,
   "metadata": {},
   "outputs": [
    {
     "name": "stdout",
     "output_type": "stream",
     "text": [
      "                             OLS Regression Results                            \n",
      "===============================================================================\n",
      "Dep. Variable:     actual_productivity   R-squared:                       0.343\n",
      "Model:                             OLS   Adj. R-squared:                  0.329\n",
      "Method:                  Least Squares   F-statistic:                     24.12\n",
      "Date:                 Sun, 10 Mar 2024   Prob (F-statistic):           2.77e-67\n",
      "Time:                         02:23:59   Log-Likelihood:                 493.29\n",
      "No. Observations:                  897   AIC:                            -946.6\n",
      "Df Residuals:                      877   BIC:                            -850.6\n",
      "Df Model:                           19                                         \n",
      "Covariance Type:             nonrobust                                         \n",
      "=========================================================================================\n",
      "                            coef    std err          t      P>|t|      [0.025      0.975]\n",
      "-----------------------------------------------------------------------------------------\n",
      "const                     0.2084      0.037      5.575      0.000       0.135       0.282\n",
      "targeted_productivity     0.7004      0.053     13.134      0.000       0.596       0.805\n",
      "smv                      -0.0076      0.001     -6.698      0.000      -0.010      -0.005\n",
      "over_time             -4.911e-06    2.2e-06     -2.231      0.026   -9.23e-06   -5.92e-07\n",
      "incentive              7.341e-05   3.77e-05      1.947      0.052   -5.96e-07       0.000\n",
      "idle_time              5.668e-05      0.000      0.122      0.903      -0.001       0.001\n",
      "idle_men                 -0.0090      0.002     -5.216      0.000      -0.012      -0.006\n",
      "no_of_style_change       -0.0361      0.013     -2.790      0.005      -0.062      -0.011\n",
      "no_of_workers             0.0041      0.001      6.653      0.000       0.003       0.005\n",
      "team_1                    0.0865      0.015      5.665      0.000       0.057       0.116\n",
      "team_2                    0.0439      0.015      2.877      0.004       0.014       0.074\n",
      "team_3                    0.0820      0.017      4.926      0.000       0.049       0.115\n",
      "team_4                    0.0681      0.016      4.252      0.000       0.037       0.100\n",
      "team_5                    0.0232      0.016      1.452      0.147      -0.008       0.055\n",
      "team_6                   -0.0460      0.017     -2.704      0.007      -0.079      -0.013\n",
      "team_7                   -0.0020      0.016     -0.129      0.897      -0.032       0.028\n",
      "team_8                   -0.0171      0.016     -1.076      0.282      -0.048       0.014\n",
      "team_9                   -0.0066      0.016     -0.410      0.682      -0.038       0.025\n",
      "team_10                  -0.0020      0.016     -0.123      0.902      -0.033       0.030\n",
      "team_11                  -0.0465      0.018     -2.569      0.010      -0.082      -0.011\n",
      "team_12                   0.0250      0.017      1.474      0.141      -0.008       0.058\n",
      "==============================================================================\n",
      "Omnibus:                       89.380   Durbin-Watson:                   1.972\n",
      "Prob(Omnibus):                  0.000   Jarque-Bera (JB):              151.363\n",
      "Skew:                          -0.672   Prob(JB):                     1.36e-33\n",
      "Kurtosis:                       4.498   Cond. No.                     5.88e+19\n",
      "==============================================================================\n",
      "\n",
      "Notes:\n",
      "[1] Standard Errors assume that the covariance matrix of the errors is correctly specified.\n",
      "[2] The smallest eigenvalue is 8.58e-30. This might indicate that there are\n",
      "strong multicollinearity problems or that the design matrix is singular.\n"
     ]
    }
   ],
   "source": [
    "import statsmodels.api as sm\n",
    "\n",
    "features = ['targeted_productivity', 'smv',\n",
    "       'over_time', 'incentive', 'idle_time', 'idle_men', 'no_of_style_change',\n",
    "       'no_of_workers', 'team_1', 'team_2', 'team_3',\n",
    "       'team_4', 'team_5', 'team_6', 'team_7', 'team_8', 'team_9', 'team_10',\n",
    "       'team_11', 'team_12']\n",
    "\n",
    "X = df_sinWIP[features]\n",
    "\n",
    "Y = df_sinWIP['actual_productivity']\n",
    "\n",
    "X_train, X_test, Y_train, Y_test = train_test_split(X, Y, random_state=1)\n",
    "\n",
    "# # agregar constante explíticamente\n",
    "X_train = sm.add_constant(X_train)\n",
    "\n",
    "# # regresión usando mínimos cuadrados ordinarios (ordinary least squares - OLS) \n",
    "model = sm.OLS(Y_train, X_train).fit()\n",
    "\n",
    "# # resumen de resultados\n",
    "print(model.summary())"
   ]
  },
  {
   "cell_type": "code",
   "execution_count": 173,
   "metadata": {},
   "outputs": [
    {
     "data": {
      "image/png": "[encoded data removed]",
      "text/plain": [
       "<Figure size 640x480 with 1 Axes>"
      ]
     },
     "metadata": {},
     "output_type": "display_data"
    }
   ],
   "source": [
    "fig = sm.graphics.influence_plot(model, criterion=\"cooks\")"
   ]
  }
 ],
 "metadata": {
  "kernelspec": {
   "display_name": "Python 3",
   "language": "python",
   "name": "python3"
  },
  "language_info": {
   "codemirror_mode": {
    "name": "ipython",
    "version": 3
   },
   "file_extension": ".py",
   "mimetype": "text/x-python",
   "name": "python",
   "nbconvert_exporter": "python",
   "pygments_lexer": "ipython3",
   "version": "3.11.7"
  }
 },
 "nbformat": 4,
 "nbformat_minor": 2
}
